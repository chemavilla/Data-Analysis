{
 "cells": [
  {
   "cell_type": "code",
   "execution_count": 41,
   "metadata": {},
   "outputs": [],
   "source": [
    "import pandas as pd\n",
    "\n",
    "df_sales = pd.read_csv('Car Analysis UK\\\\Sales_table.csv')\n",
    "df_basic = pd.read_csv('Car Analysis UK\\\\basic_table.csv')\n",
    "df_price = pd.read_csv('Car Analysis UK\\\\price_table.csv')\n",
    "\n"
   ]
  },
  {
   "cell_type": "code",
   "execution_count": 10,
   "metadata": {},
   "outputs": [
    {
     "name": "stdout",
     "output_type": "stream",
     "text": [
      "<class 'pandas.core.frame.DataFrame'>\n",
      "RangeIndex: 6333 entries, 0 to 6332\n",
      "Data columns (total 5 columns):\n",
      " #   Column       Non-Null Count  Dtype \n",
      "---  ------       --------------  ----- \n",
      " 0   Maker        6333 non-null   object\n",
      " 1   Genmodel     6333 non-null   object\n",
      " 2   Genmodel_ID  6333 non-null   object\n",
      " 3   Year         6333 non-null   int64 \n",
      " 4   Entry_price  6333 non-null   int64 \n",
      "dtypes: int64(2), object(3)\n",
      "memory usage: 247.5+ KB\n"
     ]
    }
   ],
   "source": [
    "df_price.info()"
   ]
  },
  {
   "cell_type": "code",
   "execution_count": 30,
   "metadata": {},
   "outputs": [
    {
     "data": {
      "text/html": [
       "<div>\n",
       "<style scoped>\n",
       "    .dataframe tbody tr th:only-of-type {\n",
       "        vertical-align: middle;\n",
       "    }\n",
       "\n",
       "    .dataframe tbody tr th {\n",
       "        vertical-align: top;\n",
       "    }\n",
       "\n",
       "    .dataframe thead th {\n",
       "        text-align: right;\n",
       "    }\n",
       "</style>\n",
       "<table border=\"1\" class=\"dataframe\">\n",
       "  <thead>\n",
       "    <tr style=\"text-align: right;\">\n",
       "      <th></th>\n",
       "      <th>Maker</th>\n",
       "      <th>Genmodel</th>\n",
       "      <th>Genmodel_ID</th>\n",
       "      <th>Year</th>\n",
       "      <th>Entry_price</th>\n",
       "    </tr>\n",
       "  </thead>\n",
       "  <tbody>\n",
       "    <tr>\n",
       "      <th>0</th>\n",
       "      <td>Abarth</td>\n",
       "      <td>124 Spider</td>\n",
       "      <td>2_1</td>\n",
       "      <td>2016</td>\n",
       "      <td>29365</td>\n",
       "    </tr>\n",
       "    <tr>\n",
       "      <th>1</th>\n",
       "      <td>Abarth</td>\n",
       "      <td>124 Spider</td>\n",
       "      <td>2_1</td>\n",
       "      <td>2017</td>\n",
       "      <td>26665</td>\n",
       "    </tr>\n",
       "    <tr>\n",
       "      <th>2</th>\n",
       "      <td>Abarth</td>\n",
       "      <td>124 Spider</td>\n",
       "      <td>2_1</td>\n",
       "      <td>2018</td>\n",
       "      <td>26665</td>\n",
       "    </tr>\n",
       "    <tr>\n",
       "      <th>3</th>\n",
       "      <td>Abarth</td>\n",
       "      <td>124 Spider</td>\n",
       "      <td>2_1</td>\n",
       "      <td>2019</td>\n",
       "      <td>29515</td>\n",
       "    </tr>\n",
       "    <tr>\n",
       "      <th>4</th>\n",
       "      <td>Abarth</td>\n",
       "      <td>500</td>\n",
       "      <td>2_2</td>\n",
       "      <td>2009</td>\n",
       "      <td>13400</td>\n",
       "    </tr>\n",
       "    <tr>\n",
       "      <th>...</th>\n",
       "      <td>...</td>\n",
       "      <td>...</td>\n",
       "      <td>...</td>\n",
       "      <td>...</td>\n",
       "      <td>...</td>\n",
       "    </tr>\n",
       "    <tr>\n",
       "      <th>6328</th>\n",
       "      <td>Volvo</td>\n",
       "      <td>V50</td>\n",
       "      <td>96_9</td>\n",
       "      <td>2008</td>\n",
       "      <td>15780</td>\n",
       "    </tr>\n",
       "    <tr>\n",
       "      <th>6329</th>\n",
       "      <td>Volvo</td>\n",
       "      <td>V50</td>\n",
       "      <td>96_9</td>\n",
       "      <td>2009</td>\n",
       "      <td>15770</td>\n",
       "    </tr>\n",
       "    <tr>\n",
       "      <th>6330</th>\n",
       "      <td>Volvo</td>\n",
       "      <td>V50</td>\n",
       "      <td>96_9</td>\n",
       "      <td>2010</td>\n",
       "      <td>17465</td>\n",
       "    </tr>\n",
       "    <tr>\n",
       "      <th>6331</th>\n",
       "      <td>Volvo</td>\n",
       "      <td>V50</td>\n",
       "      <td>96_9</td>\n",
       "      <td>2011</td>\n",
       "      <td>17615</td>\n",
       "    </tr>\n",
       "    <tr>\n",
       "      <th>6332</th>\n",
       "      <td>Volvo</td>\n",
       "      <td>V50</td>\n",
       "      <td>96_9</td>\n",
       "      <td>2012</td>\n",
       "      <td>19375</td>\n",
       "    </tr>\n",
       "  </tbody>\n",
       "</table>\n",
       "<p>5621 rows × 5 columns</p>\n",
       "</div>"
      ],
      "text/plain": [
       "       Maker    Genmodel Genmodel_ID  Year  Entry_price\n",
       "0     Abarth  124 Spider         2_1  2016        29365\n",
       "1     Abarth  124 Spider         2_1  2017        26665\n",
       "2     Abarth  124 Spider         2_1  2018        26665\n",
       "3     Abarth  124 Spider         2_1  2019        29515\n",
       "4     Abarth         500         2_2  2009        13400\n",
       "...      ...         ...         ...   ...          ...\n",
       "6328   Volvo         V50        96_9  2008        15780\n",
       "6329   Volvo         V50        96_9  2009        15770\n",
       "6330   Volvo         V50        96_9  2010        17465\n",
       "6331   Volvo         V50        96_9  2011        17615\n",
       "6332   Volvo         V50        96_9  2012        19375\n",
       "\n",
       "[5621 rows x 5 columns]"
      ]
     },
     "execution_count": 30,
     "metadata": {},
     "output_type": "execute_result"
    }
   ],
   "source": [
    "# I´m not interested in luxury cars that gives high dispersion  \n",
    "df_price = df_price[df_price['Entry_price']< 50000]\n",
    "df_price"
   ]
  },
  {
   "cell_type": "markdown",
   "metadata": {},
   "source": [
    "We see in the next charts that prices and number of unit droped during pandemy because of lack of components, but prices sky rocketed because companies sold less car but saw the oportunity of get more margin"
   ]
  },
  {
   "cell_type": "code",
   "execution_count": 85,
   "metadata": {},
   "outputs": [
    {
     "data": {
      "text/plain": [
       "<Axes: xlabel='Year'>"
      ]
     },
     "execution_count": 85,
     "metadata": {},
     "output_type": "execute_result"
    },
    {
     "data": {
      "image/png": "[encoded data removed]",
      "text/plain": [
       "<Figure size 640x480 with 1 Axes>"
      ]
     },
     "metadata": {},
     "output_type": "display_data"
    }
   ],
   "source": [
    "# Average price of cars per year\n",
    "df= df_price.groupby('Year')['Entry_price'].mean().astype(int) #.reset_index()\n",
    "# df[df['Year'] >= 2001].plot(x='Year', y='Entry_price')\n",
    "# df.info()\n",
    "df.plot()"
   ]
  },
  {
   "cell_type": "markdown",
   "metadata": {},
   "source": [
    "Top year of sales was 2016, after that came pandemy with a drop of almost 30% in sales"
   ]
  },
  {
   "cell_type": "code",
   "execution_count": 105,
   "metadata": {},
   "outputs": [
    {
     "name": "stdout",
     "output_type": "stream",
     "text": [
      "Last years of sales\n",
      " Date\n",
      "2016    2476613\n",
      "2017    2290444\n",
      "2018    2212385\n",
      "2019    2178658\n",
      "2020    1530118\n",
      "Name: Units, dtype: int32\n",
      "Reduccion of sales= 29.0\n"
     ]
    },
    {
     "data": {
      "image/png": "[encoded data removed]",
      "text/plain": [
       "<Figure size 640x480 with 1 Axes>"
      ]
     },
     "metadata": {},
     "output_type": "display_data"
    }
   ],
   "source": [
    "df = df_sales.drop(columns=['Maker', 'Genmodel', 'Genmodel_ID']) \n",
    "df= df.melt(var_name=\"Date\", \n",
    "        value_name=\"Units\")\n",
    "\n",
    "df =df.groupby('Date')['Units'].sum().astype(int)\n",
    "df.plot()\n",
    "print('Last years of sales\\n', df.tail(5))\n",
    "print(f\"Reduccion of sales=\", (100 -(1530118 / 2178658 * 100)) // 1)"
   ]
  },
  {
   "cell_type": "code",
   "execution_count": 95,
   "metadata": {},
   "outputs": [
    {
     "data": {
      "text/plain": [
       "38.2173153415572"
      ]
     },
     "execution_count": 95,
     "metadata": {},
     "output_type": "execute_result"
    }
   ],
   "source": []
  }
 ],
 "metadata": {
  "language_info": {
   "name": "python"
  }
 },
 "nbformat": 4,
 "nbformat_minor": 2
}
